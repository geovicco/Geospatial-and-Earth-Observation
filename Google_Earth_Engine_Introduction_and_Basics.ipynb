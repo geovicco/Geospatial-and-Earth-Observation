{
  "nbformat": 4,
  "nbformat_minor": 0,
  "metadata": {
    "colab": {
      "name": "Google Earth Engine - Introduction and Basics.ipynb",
      "provenance": [],
      "authorship_tag": "ABX9TyMFFqE0QUdOw1hP5C73dj8I",
      "include_colab_link": true
    },
    "kernelspec": {
      "name": "python3",
      "display_name": "Python 3"
    }
  },
  "cells": [
    {
      "cell_type": "markdown",
      "metadata": {
        "id": "view-in-github",
        "colab_type": "text"
      },
      "source": [
        "<a href=\"https://colab.research.google.com/github/geovicco/Geospatial-and-Earth-Observation/blob/master/Google_Earth_Engine_Introduction_and_Basics.ipynb\" target=\"_parent\"><img src=\"https://colab.research.google.com/assets/colab-badge.svg\" alt=\"Open In Colab\"/></a>"
      ]
    },
    {
      "cell_type": "code",
      "metadata": {
        "id": "f0-5LCYNMmGn",
        "outputId": "c7d0cf04-76b1-47c7-ddaf-0d48f4362092",
        "colab": {
          "base_uri": "https://localhost:8080/",
          "height": 34
        }
      },
      "source": [
        "!pip install -U -q git+https://github.com/mccarthyryanc/folium_gee.git "
      ],
      "execution_count": 7,
      "outputs": [
        {
          "output_type": "stream",
          "text": [
            "  Building wheel for foliumgee (setup.py) ... \u001b[?25l\u001b[?25hdone\n"
          ],
          "name": "stdout"
        }
      ]
    },
    {
      "cell_type": "code",
      "metadata": {
        "id": "aDG-7z8vKDGp"
      },
      "source": [
        "import ee\n",
        "import folium\n",
        "import foliumgee"
      ],
      "execution_count": 8,
      "outputs": []
    },
    {
      "cell_type": "markdown",
      "metadata": {
        "id": "ollOtlDzLqAk"
      },
      "source": [
        "**Authentication**"
      ]
    },
    {
      "cell_type": "code",
      "metadata": {
        "id": "DvwioGjFKEcV",
        "outputId": "50cb8e11-763d-46f5-94b9-52ee00682a9e",
        "colab": {
          "base_uri": "https://localhost:8080/",
          "height": 173
        }
      },
      "source": [
        "ee.Authenticate()"
      ],
      "execution_count": 2,
      "outputs": [
        {
          "output_type": "stream",
          "text": [
            "To authorize access needed by Earth Engine, open the following URL in a web browser and follow the instructions. If the web browser does not start automatically, please manually browse the URL below.\n",
            "\n",
            "    https://accounts.google.com/o/oauth2/auth?client_id=517222506229-vsmmajv00ul0bs7p89v5m89qs8eb9359.apps.googleusercontent.com&scope=https%3A%2F%2Fwww.googleapis.com%2Fauth%2Fearthengine+https%3A%2F%2Fwww.googleapis.com%2Fauth%2Fdevstorage.full_control&redirect_uri=urn%3Aietf%3Awg%3Aoauth%3A2.0%3Aoob&response_type=code&code_challenge=o6nZl115V80Tc89TmDclPF2nH833E7nttOuMkOGROdU&code_challenge_method=S256\n",
            "\n",
            "The authorization workflow will generate a code, which you should paste in the box below. \n",
            "Enter verification code: 4/4gFWORMbReE2IUmmW_EbzS4P0nmv-9t421fl3DJ-UGjQFbZV7iGdw50\n",
            "\n",
            "Successfully saved authorization token.\n"
          ],
          "name": "stdout"
        }
      ]
    },
    {
      "cell_type": "markdown",
      "metadata": {
        "id": "-3loTSTjLZcw"
      },
      "source": [
        "**Initialization**"
      ]
    },
    {
      "cell_type": "code",
      "metadata": {
        "id": "pd1n5r_NKSQz",
        "outputId": "5fff4c7b-a67f-47ee-d924-459db903d290",
        "colab": {
          "base_uri": "https://localhost:8080/",
          "height": 34
        }
      },
      "source": [
        "try:\n",
        "  ee.Initialize()\n",
        "  print('Google Earth Engine Initiated Successfully')\n",
        "except ee.EEException as e:\n",
        "  print('Google Earth Engine Initiated Successfully')\n",
        "except:\n",
        "  print('Unexpected Error', sys.exec_info()[0])\n",
        "  raise"
      ],
      "execution_count": 6,
      "outputs": [
        {
          "output_type": "stream",
          "text": [
            "Google Earth Engine Initiated Successfully\n"
          ],
          "name": "stdout"
        }
      ]
    },
    {
      "cell_type": "markdown",
      "metadata": {
        "id": "Ttgk-wOsNdDF"
      },
      "source": [
        "### **Visualize 2019 Bandipur Fires**"
      ]
    },
    {
      "cell_type": "code",
      "metadata": {
        "id": "8ui7SE-7NmFh"
      },
      "source": [
        "coords = ee.Geometry.Point([76.5384, 11.7253]) # Geographical Coordinates for Bandipur Tiger Reserve ## [longitude, latitude]"
      ],
      "execution_count": null,
      "outputs": []
    }
  ]
}