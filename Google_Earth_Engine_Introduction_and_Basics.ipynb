{
  "nbformat": 4,
  "nbformat_minor": 0,
  "metadata": {
    "colab": {
      "name": "Google Earth Engine - Introduction and Basics.ipynb",
      "provenance": [],
      "collapsed_sections": [],
      "authorship_tag": "ABX9TyOPq9x1xphLQrwJZHEE28nm",
      "include_colab_link": true
    },
    "kernelspec": {
      "name": "python3",
      "display_name": "Python 3"
    }
  },
  "cells": [
    {
      "cell_type": "markdown",
      "metadata": {
        "id": "view-in-github",
        "colab_type": "text"
      },
      "source": [
        "<a href=\"https://colab.research.google.com/github/geovicco/Geospatial-and-Earth-Observation/blob/master/Google_Earth_Engine_Introduction_and_Basics.ipynb\" target=\"_parent\"><img src=\"https://colab.research.google.com/assets/colab-badge.svg\" alt=\"Open In Colab\"/></a>"
      ]
    },
    {
      "cell_type": "code",
      "metadata": {
        "id": "f0-5LCYNMmGn",
        "outputId": "c7d0cf04-76b1-47c7-ddaf-0d48f4362092",
        "colab": {
          "base_uri": "https://localhost:8080/",
          "height": 34
        }
      },
      "source": [
        "!pip install -U -q git+https://github.com/mccarthyryanc/folium_gee.git "
      ],
      "execution_count": 7,
      "outputs": [
        {
          "output_type": "stream",
          "text": [
            "  Building wheel for foliumgee (setup.py) ... \u001b[?25l\u001b[?25hdone\n"
          ],
          "name": "stdout"
        }
      ]
    },
    {
      "cell_type": "code",
      "metadata": {
        "id": "aDG-7z8vKDGp"
      },
      "source": [
        "import ee\n",
        "import folium\n",
        "import foliumgee"
      ],
      "execution_count": 8,
      "outputs": []
    },
    {
      "cell_type": "markdown",
      "metadata": {
        "id": "ollOtlDzLqAk"
      },
      "source": [
        "**Authentication**"
      ]
    },
    {
      "cell_type": "code",
      "metadata": {
        "id": "DvwioGjFKEcV",
        "outputId": "50cb8e11-763d-46f5-94b9-52ee00682a9e",
        "colab": {
          "base_uri": "https://localhost:8080/",
          "height": 173
        }
      },
      "source": [
        "ee.Authenticate()"
      ],
      "execution_count": 2,
      "outputs": [
        {
          "output_type": "stream",
          "text": [
            "To authorize access needed by Earth Engine, open the following URL in a web browser and follow the instructions. If the web browser does not start automatically, please manually browse the URL below.\n",
            "\n",
            "    https://accounts.google.com/o/oauth2/auth?client_id=517222506229-vsmmajv00ul0bs7p89v5m89qs8eb9359.apps.googleusercontent.com&scope=https%3A%2F%2Fwww.googleapis.com%2Fauth%2Fearthengine+https%3A%2F%2Fwww.googleapis.com%2Fauth%2Fdevstorage.full_control&redirect_uri=urn%3Aietf%3Awg%3Aoauth%3A2.0%3Aoob&response_type=code&code_challenge=o6nZl115V80Tc89TmDclPF2nH833E7nttOuMkOGROdU&code_challenge_method=S256\n",
            "\n",
            "The authorization workflow will generate a code, which you should paste in the box below. \n",
            "Enter verification code: 4/4gFWORMbReE2IUmmW_EbzS4P0nmv-9t421fl3DJ-UGjQFbZV7iGdw50\n",
            "\n",
            "Successfully saved authorization token.\n"
          ],
          "name": "stdout"
        }
      ]
    },
    {
      "cell_type": "markdown",
      "metadata": {
        "id": "-3loTSTjLZcw"
      },
      "source": [
        "**Initialization**"
      ]
    },
    {
      "cell_type": "code",
      "metadata": {
        "id": "pd1n5r_NKSQz",
        "outputId": "5fff4c7b-a67f-47ee-d924-459db903d290",
        "colab": {
          "base_uri": "https://localhost:8080/",
          "height": 34
        }
      },
      "source": [
        "try:\n",
        "  ee.Initialize()\n",
        "  print('Google Earth Engine Initiated Successfully')\n",
        "except ee.EEException as e:\n",
        "  print('Google Earth Engine Initiated Successfully')\n",
        "except:\n",
        "  print('Unexpected Error', sys.exec_info()[0])\n",
        "  raise"
      ],
      "execution_count": 6,
      "outputs": [
        {
          "output_type": "stream",
          "text": [
            "Google Earth Engine Initiated Successfully\n"
          ],
          "name": "stdout"
        }
      ]
    },
    {
      "cell_type": "markdown",
      "metadata": {
        "id": "Ttgk-wOsNdDF"
      },
      "source": [
        "### **Visualize 2019 Bandipur Fires**"
      ]
    },
    {
      "cell_type": "code",
      "metadata": {
        "id": "8ui7SE-7NmFh"
      },
      "source": [
        "# Define the coordinates for the area of interest \n",
        "coords = ee.Geometry.Point([76.5384, 11.7253]) # Geographical Coordinates for Bandipur Tiger Reserve ## [longitude, latitude]"
      ],
      "execution_count": 9,
      "outputs": []
    },
    {
      "cell_type": "code",
      "metadata": {
        "id": "tWFUofqIOZES"
      },
      "source": [
        "# Select the Sentinel 2 Satellite Dataset from GEE Servers \n",
        "s2 = ee.ImageCollection('COPERNICUS/S2')\n",
        "\n",
        "# Filter Dataset based on the AOI bounds\n",
        "s2 = s2.filterBounds(coords)\n",
        "\n",
        "# Filter the dataset based on the time (YYYY-MM-DD)\n",
        "s2 = s2.filterDate('2019-02-18','2019-02-28')\n",
        "\n",
        "s2 = s2.min()"
      ],
      "execution_count": 14,
      "outputs": []
    },
    {
      "cell_type": "code",
      "metadata": {
        "id": "rvyBo6ePPYHG",
        "outputId": "2a5bb50b-b4d4-4f40-ad8b-a616454040a1",
        "colab": {
          "base_uri": "https://localhost:8080/",
          "height": 1000
        }
      },
      "source": [
        "# Specify bands combinations for Natural Color and Short-wave Infrared Images\n",
        "s2_nat = ee.Image(s2).visualize(min=300, max=2800, bands=['B4', 'B3', 'B2'])\n",
        "s2_swi = ee.Image(s2).visualize(min=500, max=3300, bands=['B12', 'B8', 'B5'])\n",
        "\n",
        "# Create a folium map\n",
        "myMap = folium.Map(location=[11.70, 76.5384], zoom_start=12, tiles='Open Street Map', control_scale=True, detect_retina=True)\n",
        "\n",
        "# Overlay the Natural Color and Shortwave Infrared Composites onto the Folium Map\n",
        "\n",
        "foliumgee.layer(myMap, s2_nat, folium_kwargs={'overlay': True, 'name':'Natural Color'})\n",
        "foliumgee.layer(myMap, s2_swi, folium_kwargs={'overlay': True, 'show':False, 'name':'Shotwave Infrared'})\n",
        "\n",
        "# Add a Layer Control Widget to the Map\n",
        "folium.LayerControl().add_to(myMap)\n",
        "\n",
        "myMap"
      ],
      "execution_count": 26,
      "outputs": [
        {
          "output_type": "execute_result",
          "data": {
            "text/html": [
              "<div style=\"width:100%;\"><div style=\"position:relative;width:100%;height:0;padding-bottom:60%;\"><span style=\"color:#565656\">Make this Notebook Trusted to load map: File -> Trust Notebook</span><iframe src=\"about:blank\" style=\"position:absolute;width:100%;height:100%;left:0;top:0;border:none !important;\" data-html=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 onload=\"this.contentDocument.open();this.contentDocument.write(atob(this.getAttribute('data-html')));this.contentDocument.close();\" allowfullscreen webkitallowfullscreen mozallowfullscreen></iframe></div></div>"
            ],
            "text/plain": [
              "<folium.folium.Map at 0x7fcd08d50b38>"
            ]
          },
          "metadata": {
            "tags": []
          },
          "execution_count": 26
        }
      ]
    },
    {
      "cell_type": "code",
      "metadata": {
        "id": "9T2HVPorPY2a",
        "outputId": "f542e22e-f96a-4a10-b50e-43592011fe84",
        "colab": {
          "base_uri": "https://localhost:8080/",
          "height": 34
        }
      },
      "source": [
        "print(type(s2))"
      ],
      "execution_count": 27,
      "outputs": [
        {
          "output_type": "stream",
          "text": [
            "<class 'ee.image.Image'>\n"
          ],
          "name": "stdout"
        }
      ]
    },
    {
      "cell_type": "code",
      "metadata": {
        "id": "kd1SLmbmVKXE",
        "outputId": "9409353b-8900-401b-b297-0b97221fc71d",
        "colab": {
          "base_uri": "https://localhost:8080/",
          "height": 34
        }
      },
      "source": [
        "print(\"Number of Bands: \",len(s2.getInfo()['bands']))"
      ],
      "execution_count": 28,
      "outputs": [
        {
          "output_type": "stream",
          "text": [
            "Number of Bands:  16\n"
          ],
          "name": "stdout"
        }
      ]
    },
    {
      "cell_type": "code",
      "metadata": {
        "id": "qfVsCa_8VUV3",
        "outputId": "d3923f01-7362-4bd1-d8ba-9960e0cf8e6a",
        "colab": {
          "base_uri": "https://localhost:8080/",
          "height": 51
        }
      },
      "source": [
        "print('Band Names: \\n',s2.bandNames().getInfo())"
      ],
      "execution_count": 32,
      "outputs": [
        {
          "output_type": "stream",
          "text": [
            "Band Names: \n",
            " ['B1', 'B2', 'B3', 'B4', 'B5', 'B6', 'B7', 'B8', 'B8A', 'B9', 'B10', 'B11', 'B12', 'QA10', 'QA20', 'QA60']\n"
          ],
          "name": "stdout"
        }
      ]
    },
    {
      "cell_type": "code",
      "metadata": {
        "id": "5r6eNdKiVYiD"
      },
      "source": [
        ""
      ],
      "execution_count": null,
      "outputs": []
    }
  ]
}